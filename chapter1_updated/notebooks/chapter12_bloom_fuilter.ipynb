{
 "cells": [
  {
   "cell_type": "code",
   "execution_count": 1,
   "metadata": {},
   "outputs": [
    {
     "name": "stdout",
     "output_type": "stream",
     "text": [
      "[0, 0, 0, 0, 0, 0, 0, 1, 0, 0]\n"
     ]
    }
   ],
   "source": [
    "## bloom filter\n",
    "### 1elment\n",
    "import os,sys\n",
    "sys.path.append(os.pardir)\n",
    "from helper import hash256\n",
    "\n",
    "bit_field_size=10\n",
    "bit_field=[0]*bit_field_size\n",
    "h=hash256(b\"hello world!!\")\n",
    "bit=int.from_bytes(h,\"big\")%bit_field_size\n",
    "bit_field[bit]=1\n",
    "print(bit_field)\n",
    "\n"
   ]
  },
  {
   "cell_type": "code",
   "execution_count": 4,
   "metadata": {},
   "outputs": [
    {
     "name": "stdout",
     "output_type": "stream",
     "text": [
      "[0, 0, 0, 0, 0, 0, 0, 0, 1, 0]\n"
     ]
    }
   ],
   "source": [
    "### 2elemengt\n",
    "bit_field_size=10\n",
    "bit_field=[0]*bit_field_size\n",
    "for item in (b\"helloworld\",b\"good bye!\"):\n",
    "    h=hash256(item)\n",
    "    bit=int.from_bytes(h,\"big\")%bit_field_size\n",
    "    bit_field[bit]=1\n",
    "print(bit_field)"
   ]
  },
  {
   "cell_type": "code",
   "execution_count": null,
   "metadata": {},
   "outputs": [],
   "source": []
  },
  {
   "cell_type": "code",
   "execution_count": null,
   "metadata": {},
   "outputs": [],
   "source": []
  },
  {
   "cell_type": "code",
   "execution_count": null,
   "metadata": {},
   "outputs": [],
   "source": []
  }
 ],
 "metadata": {
  "kernelspec": {
   "display_name": "Python 3",
   "language": "python",
   "name": "python3"
  },
  "language_info": {
   "codemirror_mode": {
    "name": "ipython",
    "version": 3
   },
   "file_extension": ".py",
   "mimetype": "text/x-python",
   "name": "python",
   "nbconvert_exporter": "python",
   "pygments_lexer": "ipython3",
   "version": "3.7.6"
  }
 },
 "nbformat": 4,
 "nbformat_minor": 4
}
