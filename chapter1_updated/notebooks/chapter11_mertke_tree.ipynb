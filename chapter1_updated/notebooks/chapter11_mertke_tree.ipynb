{
 "cells": [
  {
   "cell_type": "code",
   "execution_count": 13,
   "metadata": {},
   "outputs": [
    {
     "name": "stdout",
     "output_type": "stream",
     "text": [
      "5\n",
      "5\n",
      "0\n",
      "1\n",
      "[None]\n",
      "4\n",
      "1\n",
      "2\n",
      "[None, None]\n",
      "3\n",
      "2\n",
      "4\n",
      "[None, None, None, None]\n",
      "2\n",
      "3\n",
      "7\n",
      "[None, None, None, None, None, None, None]\n",
      "1\n",
      "4\n",
      "14\n",
      "[None, None, None, None, None, None, None, None, None, None, None, None, None, None]\n",
      "0\n",
      "5\n",
      "27\n",
      "[None, None, None, None, None, None, None, None, None, None, None, None, None, None, None, None, None, None, None, None, None, None, None, None, None, None, None]\n",
      "merkle_tree\n",
      "[[None], [None, None], [None, None, None, None], [None, None, None, None, None, None, None], [None, None, None, None, None, None, None, None, None, None, None, None, None, None], [None, None, None, None, None, None, None, None, None, None, None, None, None, None, None, None, None, None, None, None, None, None, None, None, None, None, None]]\n"
     ]
    }
   ],
   "source": [
    "## MerkleTreeStructure(p199)\n",
    "import math\n",
    "total=27\n",
    "#log2x\n",
    "max_depth=math.ceil(math.log(total,2))\n",
    "print(max_depth)\n",
    "merkle_tree=[]\n",
    "for i,depth in enumerate(range(max_depth+1)):\n",
    "    num_nodes=math.ceil(total/(2**(max_depth-depth)))\n",
    "    hashes=[None]*num_nodesc\n",
    "    merkle_tree.append(hashes)\n",
    "    print(i)\n",
    "    print(len(hashes))\n",
    "    print(hashes)\n",
    "print(\"merkle_tree\")\n",
    "\n",
    "print(merkle_tree)\n"
   ]
  },
  {
   "cell_type": "code",
   "execution_count": null,
   "metadata": {},
   "outputs": [],
   "source": []
  },
  {
   "cell_type": "code",
   "execution_count": null,
   "metadata": {},
   "outputs": [],
   "source": []
  }
 ],
 "metadata": {
  "kernelspec": {
   "display_name": "Python 3",
   "language": "python",
   "name": "python3"
  },
  "language_info": {
   "codemirror_mode": {
    "name": "ipython",
    "version": 3
   },
   "file_extension": ".py",
   "mimetype": "text/x-python",
   "name": "python",
   "nbconvert_exporter": "python",
   "pygments_lexer": "ipython3",
   "version": "3.7.4"
  }
 },
 "nbformat": 4,
 "nbformat_minor": 4
}
